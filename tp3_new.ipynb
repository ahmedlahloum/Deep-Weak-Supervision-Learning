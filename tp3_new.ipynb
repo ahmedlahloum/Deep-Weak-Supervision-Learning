{
 "cells": [
  {
   "cell_type": "markdown",
   "metadata": {},
   "source": [
    "# Small data and deep learning\n",
    "This mini-project proposes to study several techniques for improving challenging context, in which few data and resources are available."
   ]
  },
  {
   "cell_type": "markdown",
   "metadata": {},
   "source": [
    "# Introduction\n",
    "Assume we are in a context where few \"gold\" labeled data are available for training, say $\\mathcal{X}_{\\text{train}}\\triangleq\\{(x_n,y_n)\\}_{n\\leq N_{\\text{train}}}$, where $N_{\\text{train}}$ is small. A large test set $\\mathcal{X}_{\\text{test}}$ is available. A large amount of unlabeled data, $\\mathcal{X}$, is available. We also assume that we have a limited computational budget (e.g., no GPUs).\n",
    "\n",
    "For each question, write a commented *Code* or a complete answer as a *Markdown*. When the objective of a question is to report a CNN accuracy, please use the following format to report it, at the end of the question:\n",
    "\n",
    "| Model | Number of  epochs  | Train accuracy | Test accuracy |\n",
    "|------|------|------|------|\n",
    "|   XXX  | XXX | XXX | XXX |\n",
    "\n",
    "If applicable, please add the field corresponding to the  __Accuracy on Full Data__ as well as a link to the __Reference paper__ you used to report those numbers. (You do not need to train a CNN on the full CIFAR10 dataset)\n",
    "\n",
    "In your final report, please keep the logs of each training procedure you used. We will only run this jupyter if we have some doubts on your implementation. \n",
    "\n",
    "__The total file sizes should not exceed 2MB. Please name your notebook (LASTNAME)\\_(FIRSTNAME).ipynb, zip/tar it with any necessary files required to run your notebook, in a compressed file named (LASTNAME)\\_(FIRSTNAME).X where X is the corresponding extension. Zip/tar files exceeding 2MB will not be considered for grading. Submit the compressed file via the submission link provided on the website of the class.__\n",
    "\n",
    "You can use https://colab.research.google.com/ to run your experiments."
   ]
  },
  {
   "cell_type": "markdown",
   "metadata": {},
   "source": [
    "## Training set creation\n",
    "__Question 1:__ Propose a dataloader or modify the file located at https://github.com/pytorch/vision/blob/master/torchvision/datasets/cifar.py in order to obtain a training loader that will only use the first 100 samples of the CIFAR-10 training set. "
   ]
  },
  {
   "cell_type": "code",
   "execution_count": 1,
   "metadata": {},
   "outputs": [
    {
     "name": "stdout",
     "output_type": "stream",
     "text": [
      "Files already downloaded and verified\n",
      "Files already downloaded and verified\n"
     ]
    }
   ],
   "source": [
    "import torch\n",
    "from torchvision.datasets.cifar import CIFAR10\n",
    "import torchvision.transforms as transforms\n",
    "from torch.utils.data.sampler import Sampler\n",
    "from torch.utils.data import DataLoader\n",
    "\n",
    "transform = transforms.Compose(\n",
    "    [transforms.ToTensor(),\n",
    "     transforms.Normalize((0.5, 0.5, 0.5), (0.5, 0.5, 0.5))])\n",
    "\n",
    "transform_224 = transforms.Compose(\n",
    "    [transforms.Resize((224, 224)),\n",
    "     transforms.ToTensor(),\n",
    "     transforms.Normalize((0.5, 0.5, 0.5), (0.5, 0.5, 0.5))])\n",
    "\n",
    "trainset = CIFAR10(root='./data', train=True, download=True , transform = transform) \n",
    "testset = CIFAR10(root='./data', train=False, download=True , transform = transform)\n",
    "\n",
    "class SubsetSampler(Sampler):\n",
    "    def __init__(self, number):\n",
    "        self.number = number\n",
    "\n",
    "    def __iter__(self):\n",
    "        return iter(torch.arange(self.number))\n",
    "\n",
    "    def __len__(self):\n",
    "        return self.number\n",
    "\n",
    "sampler_100 = SubsetSampler(100)\n",
    "\n",
    "trainloader = DataLoader(trainset, batch_size=10, sampler = sampler_100, shuffle=False)\n",
    "trainevalloader = DataLoader(trainset, batch_size=100, sampler = sampler_100, shuffle=False)\n",
    "testloader = DataLoader(testset, batch_size=100, shuffle=False)"
   ]
  },
  {
   "cell_type": "markdown",
   "metadata": {},
   "source": [
    "This is our dataset $\\mathcal{X}_{\\text{train}}$, it will be used until the end of this project. The remaining samples correspond to $\\mathcal{X}$. The testing set $\\mathcal{X}_{\\text{test}}$ corresponds to the whole testing set of CIFAR-10."
   ]
  },
  {
   "cell_type": "markdown",
   "metadata": {},
   "source": [
    "## Testing procedure\n",
    "__Question 2:__ Explain why the evaluation of the training procedure is difficult. Propose several solutions."
   ]
  },
  {
   "cell_type": "markdown",
   "metadata": {},
   "source": [
    "The evaluation of the training procedure is difficult because of the small amount of labeled set we have. This is problematic because we don't have enough observations to estimate properly the quality of the convergence of the algorithm or to estimate the gradients during the training procedure. Also, the small amount can cause the algorithm to overfit very easily.\n",
    "\n",
    "Some solutions to this problem can be to use strong regularization (Through weights regularization and Dropouts for example) and to use weak supervision algorithms that can use unlabeled data to improve the model."
   ]
  },
  {
   "cell_type": "markdown",
   "metadata": {},
   "source": [
    "# Raw approach: the baseline"
   ]
  },
  {
   "cell_type": "markdown",
   "metadata": {},
   "source": [
    "In this section, the goal is to train a CNN on $\\mathcal{X}_{\\text{train}}$ and compare its performances with reported number from the litterature. You will have to re-use and/or design a standard classification pipeline. You should optimize your pipeline to obtain the best performances (image size, data augmentation by flip, ...).\n",
    "\n",
    "The key ingredients for training a CNN are the batch size, as well as the learning rate schedule, i.e. how to decrease the learning rate as a function of the number of epochs. A possible schedule is to start the learning rate at 0.1 and decreasing it every 30 epochs by 10. In case of divergence, reduce the laerning rate. A potential batch size could be 10, yet this can be cross-validated.\n",
    "\n",
    "You can get some baselines accuracies in this paper: http://openaccess.thecvf.com/content_cvpr_2018/papers/Keshari_Learning_Structure_and_CVPR_2018_paper.pdf. Obviously, it is a different context, as those researchers had access to GPUs."
   ]
  },
  {
   "cell_type": "code",
   "execution_count": 2,
   "metadata": {},
   "outputs": [],
   "source": [
    "import torch.nn as nn\n",
    "import torch.nn.functional as F\n",
    "import torch.optim as optim\n",
    "\n",
    "class CNN(nn.Module):\n",
    "    def __init__(self):\n",
    "        super(CNN, self).__init__()\n",
    "        \n",
    "        self.conv1 = nn.Conv2d(3, 6, 5)\n",
    "        self.pool = nn.MaxPool2d(2, 2)\n",
    "        self.conv2 = nn.Conv2d(6, 16, 5)\n",
    "        \n",
    "        self.fc1 = nn.Linear(16 * 5 * 5, 120)\n",
    "        self.fc2 = nn.Linear(120, 10)\n",
    "\n",
    "    def forward(self, x):\n",
    "        \n",
    "        x = self.pool(F.relu(self.conv1(x)))\n",
    "        x = self.pool(F.relu(self.conv2(x)))\n",
    "\n",
    "        x = x.view(-1, 16 * 5 * 5)\n",
    "        x = F.relu(self.fc1(x))\n",
    "        x = self.fc2(x)\n",
    "        \n",
    "        return x\n",
    "    \n",
    "    \n",
    "def train_loop(epochs , trainloader , testloader , trainevalloader , optimizer , net , criterion , verbose):\n",
    "    \n",
    "    for epoch in range(epochs):  # loop over the dataset multiple times\n",
    "\n",
    "        running_loss = 0.0\n",
    "        \n",
    "        for i, data in enumerate(trainloader, 0):\n",
    "            # get the inputs\n",
    "            inputs, labels = data\n",
    "\n",
    "            # zero the parameter gradients\n",
    "            optimizer.zero_grad()\n",
    "\n",
    "            # forward + backward + optimize\n",
    "            outputs = net(inputs)\n",
    "            loss = criterion(outputs, labels)\n",
    "            loss.backward()\n",
    "            optimizer.step()\n",
    "\n",
    "            # print statistics\n",
    "            running_loss += loss.item()\n",
    "            \n",
    "        if epoch % verbose == verbose - 1 : \n",
    "            print('[Epoch %d] loss: %.3f' % (epoch + 1, running_loss / 100))\n",
    "            \n",
    "            \n",
    "    print('Training Finished')\n",
    "    \n",
    "    \n",
    "    with torch.no_grad():\n",
    "        \n",
    "        print('Results on train set :')\n",
    "\n",
    "        _, predicted = torch.max( net(list(trainevalloader)[0][0]) , 1)\n",
    "        correct = torch.sum(predicted == list(trainevalloader)[0][1])\n",
    "        total = 100\n",
    "        print('Accuracy of the network on the train images: %d %%' % (100 * correct / total))\n",
    "\n",
    "\n",
    "\n",
    "        print('Results on test set :')\n",
    "\n",
    "        predictions , true_labs = [] , []\n",
    "\n",
    "        for i, data in enumerate(testloader, 0):\n",
    "            # get the inputs\n",
    "            inputs, labels = data\n",
    "\n",
    "            # forward + backward + optimize\n",
    "            outputs = net(inputs)\n",
    "            _, predicted = torch.max( outputs , 1)\n",
    "            predictions = predictions + list(predicted)\n",
    "            true_labs = true_labs + list(labels)\n",
    "\n",
    "\n",
    "        correct = torch.sum(torch.tensor(predictions) == torch.tensor(true_labs))\n",
    "        total = 10000\n",
    "        print('Accuracy of the network on the test images: %d %%' % (100 * correct / total))\n",
    "        "
   ]
  },
  {
   "cell_type": "code",
   "execution_count": 29,
   "metadata": {
    "scrolled": true
   },
   "outputs": [
    {
     "name": "stdout",
     "output_type": "stream",
     "text": [
      "[Epoch 10] loss: 0.159\n",
      "[Epoch 20] loss: 0.010\n",
      "[Epoch 30] loss: 0.007\n",
      "[Epoch 40] loss: 0.012\n",
      "Training Finished\n",
      "Results on train set :\n",
      "Accuracy of the network on the train images: 98 %\n",
      "Results on test set :\n",
      "Accuracy of the network on the test images: 18 %\n"
     ]
    }
   ],
   "source": [
    "cnn = CNN()\n",
    "criterion = nn.CrossEntropyLoss()\n",
    "optimizer = optim.SGD(cnn.parameters(), lr=0.01, momentum=0.9)\n",
    "exp_lr_scheduler = optim.lr_scheduler.StepLR(optimizer, step_size=10, gamma=0.1)\n",
    "\n",
    "train_loop(40 , trainloader , testloader , trainevalloader , optimizer , cnn , criterion , 10)"
   ]
  },
  {
   "cell_type": "markdown",
   "metadata": {},
   "source": [
    "| Model | Number of  epochs  | Train accuracy | Test accuracy |\n",
    "|------|------|------|------|\n",
    "|   CNN  | 100 | 100% |21%|"
   ]
  },
  {
   "cell_type": "markdown",
   "metadata": {},
   "source": [
    "## ResNet architectures"
   ]
  },
  {
   "cell_type": "markdown",
   "metadata": {},
   "source": [
    "__Question 3:__ Write a classification pipeline for $\\mathcal{X}_{\\text{train}}$, train from scratch and evaluate a *ResNet-18* architecture specific to CIFAR10 (details about the ImageNet model can be found here: https://arxiv.org/abs/1409.1556 ). If possible, please report the accuracy obtained on the whole dataset, as well as the reference paper/GitHub link you might have used.\n",
    "\n",
    "*Hint:* You can re-use the following code: https://github.com/kuangliu/pytorch-cifar. During a training of 10 epochs, a batch size of 10 and a learning rate of 0.01, one obtains 40% accuracy on $\\mathcal{X}_{\\text{train}}$ (~2 minutes) and 20% accuracy on $\\mathcal{X}_{\\text{test}}$ (~5 minutes)."
   ]
  },
  {
   "cell_type": "code",
   "execution_count": 4,
   "metadata": {},
   "outputs": [
    {
     "name": "stdout",
     "output_type": "stream",
     "text": [
      "Files already downloaded and verified\n",
      "Files already downloaded and verified\n",
      "[Epoch 10] loss: 0.051\n",
      "Training Finished\n",
      "Results on train set :\n",
      "Accuracy of the network on the train images: 75 %\n",
      "Results on test set :\n",
      "Accuracy of the network on the test images: 18 %\n"
     ]
    }
   ],
   "source": [
    "import torchvision.models as models\n",
    "\n",
    "resnet18 = models.resnet18(pretrained = False)\n",
    "optimizer = optim.SGD(resnet18.parameters(), lr=0.01, momentum=0.9)\n",
    "exp_lr_scheduler = optim.lr_scheduler.StepLR(optimizer, step_size=30, gamma=0.1)\n",
    "criterion = nn.CrossEntropyLoss()\n",
    "\n",
    "trainset = CIFAR10(root='./data', train=True, download=True , transform = transform_224) \n",
    "testset = CIFAR10(root='./data', train=False, download=True , transform = transform_224)\n",
    "sampler_100 = SubsetSampler(100)\n",
    "\n",
    "trainloader = DataLoader(trainset, batch_size=10, sampler = sampler_100, shuffle=False)\n",
    "trainevalloader = DataLoader(trainset, batch_size=100, sampler = sampler_100, shuffle=False)\n",
    "testloader = DataLoader(testset, batch_size=10, shuffle=False)\n",
    "\n",
    "train_loop(10 , trainloader , testloader  , trainevalloader , optimizer , resnet18 , criterion , 10)"
   ]
  },
  {
   "cell_type": "markdown",
   "metadata": {},
   "source": [
    "| Model | Number of  epochs  | Train accuracy | Test accuracy |\n",
    "|------|------|------|------|\n",
    "|   Resnet18  | 10 | 75% | 18% |"
   ]
  },
  {
   "cell_type": "markdown",
   "metadata": {},
   "source": [
    "## VGG-like architectures"
   ]
  },
  {
   "cell_type": "markdown",
   "metadata": {},
   "source": [
    "__Question 4:__ Same question as before, but with a *VGG*. Which model do you recommend?"
   ]
  },
  {
   "cell_type": "code",
   "execution_count": 4,
   "metadata": {},
   "outputs": [
    {
     "name": "stdout",
     "output_type": "stream",
     "text": [
      "[Epoch 10] loss: 0.248\n",
      "Training Finished\n",
      "Results on train set :\n",
      "Accuracy of the network on the train images: 17 %\n",
      "Results on test set :\n",
      "Accuracy of the network on the test images: 10 %\n"
     ]
    }
   ],
   "source": [
    "import torchvision.models as models\n",
    "vgg11 = models.vgg11(pretrained = False)\n",
    "\n",
    "optimizer = optim.SGD(vgg11.parameters(), lr=0.01, momentum=0.9)\n",
    "exp_lr_scheduler = optim.lr_scheduler.StepLR(optimizer, step_size=30, gamma=0.1)\n",
    "\n",
    "train_loop(10 , trainloader , testloader,  trainevalloader , optimizer , vgg11 , criterion , 10)"
   ]
  },
  {
   "cell_type": "markdown",
   "metadata": {},
   "source": [
    "| Model | Number of  epochs  | Train accuracy | Test accuracy |\n",
    "|------|------|------|------|\n",
    "|   VGG11  | 10 | 17% | 10% |\n",
    "\n",
    "Based on these results, the best choice appears to be the Resnet Architechture, although the VGG architechture shoud be trained more (the training & evaluation time makes it difficult on the current setup.)"
   ]
  },
  {
   "cell_type": "markdown",
   "metadata": {},
   "source": [
    "# Transfer learning"
   ]
  },
  {
   "cell_type": "markdown",
   "metadata": {},
   "source": [
    "We propose to use pre-trained models on a classification and generative task, in order to improve the results of our setting."
   ]
  },
  {
   "cell_type": "markdown",
   "metadata": {},
   "source": [
    "## ImageNet features"
   ]
  },
  {
   "cell_type": "markdown",
   "metadata": {},
   "source": [
    "Now, we will use some pre-trained models on ImageNet and see how well they compare on CIFAR. A list is available on: https://pytorch.org/docs/stable/torchvision/models.html.\n",
    "\n",
    "__Question 5:__ Pick a model from the list above, adapt it to CIFAR and retrain its final layer (or a block of layers, depending on the resources to which you have access to). Report its accuracy."
   ]
  },
  {
   "cell_type": "code",
   "execution_count": 6,
   "metadata": {},
   "outputs": [
    {
     "name": "stdout",
     "output_type": "stream",
     "text": [
      "[Epoch 10] loss: 0.002\n",
      "Training Finished\n",
      "Results on train set :\n",
      "Accuracy of the network on the train images: 100 %\n",
      "Results on test set :\n",
      "Accuracy of the network on the test images: 35 %\n"
     ]
    }
   ],
   "source": [
    "model = models.resnet18(pretrained = True)\n",
    "\n",
    "optimizer = optim.SGD(model.parameters(), lr=0.01, momentum=0.9)\n",
    "\n",
    "for param in model.parameters():\n",
    "    param.require_grad = False\n",
    "    \n",
    "model.fc = nn.Linear(512, 10)\n",
    "\n",
    "train_loop(10 , trainloader , testloader , trainevalloader , optimizer , model , criterion , 10)"
   ]
  },
  {
   "cell_type": "markdown",
   "metadata": {},
   "source": [
    "| Model | Number of  epochs  | Train accuracy | Test accuracy |\n",
    "|------|------|------|------|\n",
    "|  Pretrained Resnet18  | 10 | 100% | 35% |"
   ]
  },
  {
   "cell_type": "markdown",
   "metadata": {},
   "source": [
    "## DCGan features"
   ]
  },
  {
   "cell_type": "markdown",
   "metadata": {},
   "source": [
    "GANs correspond to an unsupervised technique for generating images. In https://arxiv.org/pdf/1511.06434.pdf, Sec. 5.1 shows that the representation obtained from the Discriminator has some nice generalization properties on CIFAR10."
   ]
  },
  {
   "cell_type": "markdown",
   "metadata": {},
   "source": [
    "__Question 6:__  Using for instance a pretrained model from https://github.com/soumith/dcgan.torch combined with https://github.com/pytorch/examples/tree/master/dcgan, propose a model to train on $\\mathcal{X}_{\\text{train}}$. Train it and report its accuracy.\n",
    "\n",
    "*Hint:* You can use the library: https://github.com/bshillingford/python-torchfile to load the weights of a model from torch(Lua) to pytorch(python)."
   ]
  },
  {
   "cell_type": "code",
   "execution_count": 18,
   "metadata": {},
   "outputs": [],
   "source": [
    "import torch\n",
    "import torch.nn as nn\n",
    "import torch.optim as optim\n",
    "import torch.nn.functional as F\n",
    "import torch.backends.cudnn as cudnn\n",
    "import torchvision\n",
    "import torchvision.transforms as transforms\n",
    "import torchfile\n",
    "\n",
    "class DiscriminatorFeatures(nn.Module):\n",
    "    def __init__(self, nc, ndf):\n",
    "        super(DiscriminatorFeatures, self).__init__()\n",
    "        self.nc = nc\n",
    "        self.ndf = ndf\n",
    "        self.main = nn.Sequential(\n",
    "\n",
    "            nn.Conv2d(nc, ndf, 4, 2, 1, bias=False),\n",
    "            nn.LeakyReLU(0.2, inplace=True),\n",
    "\n",
    "            nn.Conv2d(ndf, ndf * 2, 4, 2, 1, bias=False),\n",
    "            nn.BatchNorm2d(ndf * 2),\n",
    "            nn.LeakyReLU(0.2, inplace=True),\n",
    "\n",
    "            nn.Conv2d(ndf * 2, ndf * 4, 4, 2, 1, bias=False),\n",
    "            nn.BatchNorm2d(ndf * 4),\n",
    "            nn.LeakyReLU(0.2, inplace=True),\n",
    "\n",
    "            nn.Conv2d(ndf * 4, ndf * 8, 4, 1, 0, bias=False),\n",
    "            )\n",
    "        \n",
    "    def forward(self, input):\n",
    "\n",
    "        output = self.main(input)\n",
    "        return output.view(-1, 320)\n",
    "\n",
    "def load_feature_extractor():\n",
    "    path = \"landscapes_776_net_D_cpu.t7\"\n",
    "    lua_weights = torchfile.load(path)\n",
    "    feature_extractor = DiscriminatorFeatures(3, 40)\n",
    "    \n",
    "    feature_extractor.main._modules['0'].weight.data = torch.FloatTensor(lua_weights[b'modules'][0][b'weight'])\n",
    "    feature_extractor.main._modules['2'].weight.data = torch.FloatTensor(lua_weights[b'modules'][2][b'weight'])\n",
    "    feature_extractor.main._modules['3'].weight.data = torch.FloatTensor(lua_weights[b'modules'][3][b'weight'])\n",
    "    feature_extractor.main._modules['5'].weight.data = torch.FloatTensor(lua_weights[b'modules'][5][b'weight'])\n",
    "    feature_extractor.main._modules['6'].weight.data = torch.FloatTensor(lua_weights[b'modules'][6][b'weight'])\n",
    "    feature_extractor.main._modules['8'].weight.data = torch.FloatTensor(lua_weights[b'modules'][8][b'weight'])\n",
    "    \n",
    "    return feature_extractor\n",
    "\n",
    "class Classifier(nn.Module):\n",
    "    def __init__(self):\n",
    "        super(Classifier, self).__init__()\n",
    "        self.feature_extractor = load_feature_extractor()\n",
    "        self.fc = nn.Linear(320, 10)\n",
    "        \n",
    "    def forward(self, input):\n",
    "        h = self.feature_extractor(input)\n",
    "        return self.fc(h)\n",
    "\n",
    "    \n",
    "model = Classifier()\n",
    "\n",
    "for param in model.feature_extractor.parameters():\n",
    "    param.require_grad = False"
   ]
  },
  {
   "cell_type": "code",
   "execution_count": 14,
   "metadata": {},
   "outputs": [
    {
     "name": "stdout",
     "output_type": "stream",
     "text": [
      "Files already downloaded and verified\n",
      "Files already downloaded and verified\n"
     ]
    }
   ],
   "source": [
    "trainset = CIFAR10(root='./data', train=True, download=True , transform = transform) \n",
    "testset = CIFAR10(root='./data', train=False, download=True , transform = transform)\n",
    "trainloader = DataLoader(trainset, batch_size=10, sampler = sampler_100, shuffle=False)\n",
    "trainevalloader = DataLoader(trainset, batch_size=100, sampler = sampler_100, shuffle=False)\n",
    "testloader = DataLoader(testset, batch_size=100, shuffle=False)"
   ]
  },
  {
   "cell_type": "code",
   "execution_count": 19,
   "metadata": {},
   "outputs": [
    {
     "name": "stdout",
     "output_type": "stream",
     "text": [
      "[Epoch 10] loss: 0.043\n",
      "[Epoch 20] loss: 0.000\n",
      "[Epoch 30] loss: 0.000\n",
      "[Epoch 40] loss: 0.000\n",
      "[Epoch 50] loss: 0.000\n",
      "Training Finished\n",
      "Results on train set :\n",
      "Accuracy of the network on the train images: 100 %\n",
      "Results on test set :\n",
      "Accuracy of the network on the test images: 21 %\n"
     ]
    }
   ],
   "source": [
    "optimizer = optim.SGD(model.parameters(), lr=0.01, momentum=0.9)\n",
    "\n",
    "train_loop(50 , trainloader , testloader, trainevalloader , optimizer , model , criterion , 10)"
   ]
  },
  {
   "cell_type": "markdown",
   "metadata": {},
   "source": [
    "| Model | Number of  epochs  | Train accuracy | Test accuracy |\n",
    "|------|------|------|------|\n",
    "|  DCGAN Features  | 10 | 100% | 21% |"
   ]
  },
  {
   "cell_type": "markdown",
   "metadata": {},
   "source": [
    "# Incorporating *a priori*\n",
    "Geometrical *a priori* are appealing for image classification tasks. For now, we only consider linear transformations $\\mathcal{T}$ of the inputs $x:\\mathbb{S}^2\\rightarrow\\mathbb{R}$ where $\\mathbb{S}$ is the support of an image, meaning that:\n",
    "\n",
    "$$\\forall u\\in\\mathbb{S}^2,\\mathcal{T}(\\lambda x+\\mu y)(u)=\\lambda \\mathcal{T}(x)(u)+\\mu \\mathcal{T}(y)(u)\\,.$$\n",
    "\n",
    "For instance if an image had an infinite support, a translation $\\mathcal{T}_a$ by $a$ would lead to:\n",
    "\n",
    "$$\\forall u, \\mathcal{T}_a(x)(u)=x(u-a)\\,.$$\n",
    "\n",
    "Otherwise, one has to handle several boundary effects.\n",
    "\n",
    "__Question 7:__ Explain the issues when dealing with translations, rotations, scaling effects, color changes on $32\\times32$ images. Propose several ideas to tackle them."
   ]
  },
  {
   "cell_type": "markdown",
   "metadata": {},
   "source": []
  },
  {
   "cell_type": "markdown",
   "metadata": {},
   "source": [
    "## Data augmentations"
   ]
  },
  {
   "cell_type": "markdown",
   "metadata": {},
   "source": [
    "__Question 8:__ Propose a set of geometric transformation beyond translation, and incorporate them in your training pipeline. Train the model of the __Question 3__ and __Question 4__ with them and report the accuracies."
   ]
  },
  {
   "cell_type": "code",
   "execution_count": 23,
   "metadata": {},
   "outputs": [
    {
     "name": "stdout",
     "output_type": "stream",
     "text": [
      "Files already downloaded and verified\n",
      "Files already downloaded and verified\n",
      "Files already downloaded and verified\n",
      "[Epoch 10] loss: 0.173\n",
      "Training Finished\n",
      "Results on train set :\n",
      "Accuracy of the network on the train images: 42 %\n",
      "Results on test set :\n",
      "Accuracy of the network on the test images: 18 %\n",
      "[Epoch 10] loss: 0.254\n",
      "Training Finished\n",
      "Results on train set :\n",
      "Accuracy of the network on the train images: 11 %\n",
      "Results on test set :\n",
      "Accuracy of the network on the test images: 10 %\n"
     ]
    }
   ],
   "source": [
    "train_transforms = transforms.Compose([\n",
    "    \n",
    "    transforms.RandomHorizontalFlip(p=0.5),\n",
    "    transforms.RandomAffine(15, translate=(.2 , .2), \n",
    "                               scale= (.7 , 1.3) , shear= 15, resample=False, fillcolor=0),\n",
    "    transforms.Resize((224, 224)),\n",
    "    transforms.ToTensor()\n",
    "])\n",
    "\n",
    "\n",
    "trainset = CIFAR10(root='./data', train=True, download=True , transform = train_transforms) \n",
    "trainevalset = CIFAR10(root='./data', train=True, download=True , transform = transform_224)\n",
    "testset = CIFAR10(root='./data', train=False, download=True , transform = transform_224)\n",
    "\n",
    "sampler_100 = SubsetSampler(100)\n",
    "\n",
    "trainloader = DataLoader(trainset, batch_size=10, sampler = sampler_100, shuffle=False)\n",
    "trainevalloader = DataLoader(trainevalset, batch_size=100, sampler = sampler_100, shuffle=False)\n",
    "testloader = DataLoader(testset, batch_size=100, shuffle=False)\n",
    "\n",
    "\n",
    "resnet18 = models.resnet18(pretrained = False)\n",
    "optimizer = optim.SGD(resnet18.parameters(), lr=0.01, momentum=0.9)\n",
    "train_loop(10 , trainloader , testloader,trainevalloader, optimizer , resnet18 , criterion , 10)\n",
    "\n",
    "vgg11 = models.vgg11(pretrained = False)\n",
    "optimizer = optim.SGD(vgg11.parameters(), lr=0.01, momentum=0.9)\n",
    "train_loop(10 , trainloader , testloader, trainevalloader, optimizer , vgg11 , criterion , 10)"
   ]
  },
  {
   "cell_type": "markdown",
   "metadata": {},
   "source": [
    "| Model | Number of  epochs  | Train accuracy | Test accuracy |\n",
    "|------|------|------|------|\n",
    "|  Resnet 18 | 10 | 42% | 18% |\n",
    "|  VGG 11  | 10 | 11% | 10% |"
   ]
  },
  {
   "cell_type": "markdown",
   "metadata": {},
   "source": [
    "## Wavelets\n",
    "\n",
    "__Question 9:__ Use a Scattering Transform as an input to a ResNet-like architecture. You can find a baseline here: https://arxiv.org/pdf/1703.08961.pdf.\n",
    "\n",
    "*Hint:* You can use the following package: https://www.kymat.io/"
   ]
  },
  {
   "cell_type": "code",
   "execution_count": 14,
   "metadata": {},
   "outputs": [],
   "source": [
    "# from https://www.kymat.io/gallery_2d/cifar_resnet.html#sphx-glr-gallery-2d-cifar-resnet-py\n",
    "\n",
    "\n",
    "from kymatio import Scattering2D\n",
    "import kymatio.datasets as scattering_datasets\n",
    "\n",
    "\n",
    "def conv3x3(in_planes, out_planes, stride=1):\n",
    "    \"3x3 convolution with padding\"\n",
    "    return nn.Conv2d(in_planes, out_planes, kernel_size=3, stride=stride, padding=1, bias=False)\n",
    "\n",
    "\n",
    "class BasicBlock(nn.Module):\n",
    "    def __init__(self, inplanes, planes, stride=1, downsample=None):\n",
    "        super(BasicBlock, self).__init__()\n",
    "        self.conv1 = conv3x3(inplanes, planes, stride)\n",
    "        self.bn1 = nn.BatchNorm2d(planes)\n",
    "        self.relu = nn.ReLU(inplace=True)\n",
    "        self.conv2 = conv3x3(planes, planes)\n",
    "        self.bn2 = nn.BatchNorm2d(planes)\n",
    "        self.downsample = downsample\n",
    "        self.stride = stride\n",
    "\n",
    "    def forward(self, x):\n",
    "        residual = x\n",
    "\n",
    "        out = self.conv1(x)\n",
    "        out = self.bn1(out)\n",
    "        out = self.relu(out)\n",
    "\n",
    "        out = self.conv2(out)\n",
    "        out = self.bn2(out)\n",
    "\n",
    "        if self.downsample is not None:\n",
    "            residual = self.downsample(x)\n",
    "\n",
    "        out += residual\n",
    "        out = self.relu(out)\n",
    "\n",
    "        return out\n",
    "\n",
    "\n",
    "class Scattering2dResNet(nn.Module):\n",
    "    def __init__(self, in_channels,  k=2, n=4, num_classes=10):\n",
    "        super(Scattering2dResNet, self).__init__()\n",
    "        self.inplanes = 16 * k\n",
    "        self.ichannels = 16 * k\n",
    "        self.K = in_channels\n",
    "        self.init_conv = nn.Sequential(\n",
    "            nn.BatchNorm2d(in_channels, eps=1e-5, affine=False),\n",
    "            nn.Conv2d(in_channels, self.ichannels,\n",
    "                  kernel_size=3, stride=1, padding=1, bias=False),\n",
    "            nn.BatchNorm2d(self.ichannels),\n",
    "            nn.ReLU(True)\n",
    "        )\n",
    "\n",
    "        self.layer2 = self._make_layer(BasicBlock, 32 * k, n)\n",
    "        self.layer3 = self._make_layer(BasicBlock, 64 * k, n)\n",
    "        self.avgpool = nn.AdaptiveAvgPool2d(2)\n",
    "        self.fc = nn.Linear(64 * k * 4, num_classes)\n",
    "\n",
    "    def _make_layer(self, block, planes, blocks, stride=1):\n",
    "        downsample = None\n",
    "        if stride != 1 or self.inplanes != planes:\n",
    "            downsample = nn.Sequential(\n",
    "                nn.Conv2d(self.inplanes, planes,\n",
    "                          kernel_size=1, stride=stride, bias=False),\n",
    "                nn.BatchNorm2d(planes),\n",
    "            )\n",
    "        layers = []\n",
    "        layers.append(block(self.inplanes, planes, stride, downsample))\n",
    "        self.inplanes = planes\n",
    "        for i in range(1, blocks):\n",
    "            layers.append(block(self.inplanes, planes))\n",
    "\n",
    "        return nn.Sequential(*layers)\n",
    "\n",
    "    def forward(self, x):\n",
    "        x = x.view(x.size(0), self.K, 8, 8)\n",
    "        x = self.init_conv(x)\n",
    "\n",
    "        x = self.layer2(x)\n",
    "        x = self.layer3(x)\n",
    "        x = self.avgpool(x)\n",
    "        x = x.view(x.size(0), -1)\n",
    "        x = self.fc(x)\n",
    "        return x"
   ]
  },
  {
   "cell_type": "code",
   "execution_count": null,
   "metadata": {},
   "outputs": [
    {
     "name": "stdout",
     "output_type": "stream",
     "text": [
      "Files already downloaded and verified\n",
      "Files already downloaded and verified\n",
      "[Epoch 10] loss: 0.034\n",
      "Training Finished\n",
      "Results on train set :\n",
      "Accuracy of the network on the train images: 85 %\n",
      "Results on test set :\n"
     ]
    }
   ],
   "source": [
    "from kymatio import Scattering2D\n",
    "\n",
    "scattering = Scattering2D(J=2, shape=(32, 32))\n",
    "\n",
    "scat_transform = transforms.Compose([transforms.ToTensor(),\n",
    "     scattering])\n",
    "\n",
    "trainset = CIFAR10(root='./data', train=True, download=True , transform = scat_transform) \n",
    "testset = CIFAR10(root='./data', train=False, download=True , transform = scat_transform)\n",
    "\n",
    "\n",
    "sampler_100 = SubsetSampler(100)\n",
    "\n",
    "trainloader = DataLoader(trainset, batch_size=10, sampler = sampler_100, shuffle=False)\n",
    "trainevalloader = DataLoader(trainset, batch_size=100, sampler = sampler_100, shuffle=False)\n",
    "testloader = DataLoader(testset, batch_size=10, shuffle=False)\n",
    "\n",
    "resnet = Scattering2dResNet(in_channels = 81*3)\n",
    "optimizer = optim.SGD(resnet.parameters(), lr=0.01, momentum=0.9)\n",
    "criterion = nn.CrossEntropyLoss()\n",
    "train_loop(10 , trainloader , testloader , trainevalloader , optimizer , resnet , criterion , 10)"
   ]
  },
  {
   "cell_type": "markdown",
   "metadata": {},
   "source": [
    "# Weak supervision"
   ]
  },
  {
   "cell_type": "markdown",
   "metadata": {},
   "source": [
    "Weakly supervised techniques permit to tackle the issue of labeled data. An introduction to those techniques can be found here: https://hazyresearch.github.io/snorkel/blog/ws_blog_post.html.\n",
    "\n",
    "__(Open) Question 10:__ Pick a weakly supervised method that will potentially use $\\mathcal{X}\\cup\\mathcal{X}_{\\text{train}}$ to train a representation (a subset of $\\mathcal{X}$ is also fine). Evaluate it and report the accuracies. You should be careful in the choice of your method, in order to avoid heavy computational effort."
   ]
  },
  {
   "cell_type": "markdown",
   "metadata": {},
   "source": [
    "# Conclusions"
   ]
  },
  {
   "cell_type": "markdown",
   "metadata": {},
   "source": [
    "__Question 11:__ Write a short report explaining the pros and the cons of each methods that you implemented. 25% of the grade of this project will correspond to this question, thus, it should be done carefully. In particular, please add a plot that will summarize all your numerical results."
   ]
  },
  {
   "cell_type": "markdown",
   "metadata": {},
   "source": [
    "Through this Homework, we tested several technics to compensate the lack of labeled training data.\n",
    "\n",
    "The first idea was to simply train a model from scratch, and compare its performance with the performance in the litterature. To achieve that, we trained three classical models: A basic Convolutional neural network, a VGG Architechture and a Resnet Architechture. The pros of this method is that we don't need any external ressources during the training. However, the lack of data makes it very hard to obtain acceptable performances. But we can see that the used architechture can help improve performances, like with the Resnet Architechture. \n",
    "\n",
    "The second idea is to use Transfer Learning technics. We could see that using pre-trained weights helped the model to achieve better performances (35% with a pre-trained Resnet 18). However, we couldn't achieve comparable performances by using the features extracted by the Discriminator af a DCGAN Architechture. This technic has its limits  \n",
    "\n",
    "THe first is simply to train the model , but we have seen that. However, no need f. We laso have seen that with an appropriate architechture, we can compensate the lack of training dtdt. "
   ]
  }
 ],
 "metadata": {
  "kernelspec": {
   "display_name": "Python 3",
   "language": "python",
   "name": "python3"
  },
  "language_info": {
   "codemirror_mode": {
    "name": "ipython",
    "version": 3
   },
   "file_extension": ".py",
   "mimetype": "text/x-python",
   "name": "python",
   "nbconvert_exporter": "python",
   "pygments_lexer": "ipython3",
   "version": "3.6.5"
  },
  "toc": {
   "base_numbering": 1,
   "nav_menu": {},
   "number_sections": true,
   "sideBar": true,
   "skip_h1_title": false,
   "title_cell": "Table of Contents",
   "title_sidebar": "Contents",
   "toc_cell": false,
   "toc_position": {},
   "toc_section_display": true,
   "toc_window_display": false
  }
 },
 "nbformat": 4,
 "nbformat_minor": 1
}
